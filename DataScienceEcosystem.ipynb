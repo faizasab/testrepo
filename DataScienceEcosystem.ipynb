{
 "cells": [
  {
   "cell_type": "markdown",
   "id": "a3f23c5c",
   "metadata": {},
   "source": [
    "# Data Science Tools and Ecosystems"
   ]
  },
  {
   "cell_type": "markdown",
   "id": "54bd81d2",
   "metadata": {},
   "source": [
    "In this notebook, Data Science Tools and Ecosystems are summarized"
   ]
  },
  {
   "cell_type": "markdown",
   "id": "a0a3bd82",
   "metadata": {},
   "source": [
    "**Objectives:**\n",
    "* List popular languages used in Data Science\n",
    "* List commonly used libraries in Data Science\n",
    "* Perform basic arithmetic functions"
   ]
  },
  {
   "cell_type": "markdown",
   "id": "2781d5e4",
   "metadata": {},
   "source": [
    "Some of the popular languages that Data Scientists use are:\n",
    "1. Python\n",
    "2. R\n",
    "3. SQL\n",
    "    Some of the popular libraries used by Data Scientists are:\n",
    "    1. Numpy\n",
    "    2. Pandas\n",
    "    3. Scikit-learn"
   ]
  },
  {
   "cell_type": "markdown",
   "id": "0d4074fa",
   "metadata": {},
   "source": [
    "|Data Science Tools|\n",
    "|------------------|\n",
    "|Apache Spark|\n",
    "|Big Data|\n",
    "|Machine Learning|"
   ]
  },
  {
   "cell_type": "markdown",
   "id": "8cb892b6",
   "metadata": {},
   "source": [
    "### Below are a few examples of evaluating arithmetic expressions in python:"
   ]
  },
  {
   "cell_type": "code",
   "execution_count": 2,
   "id": "b4ddf2bf",
   "metadata": {},
   "outputs": [
    {
     "data": {
      "text/plain": [
       "29"
      ]
     },
     "execution_count": 2,
     "metadata": {},
     "output_type": "execute_result"
    }
   ],
   "source": [
    "24 + 5"
   ]
  },
  {
   "cell_type": "code",
   "execution_count": 3,
   "id": "29c7718d",
   "metadata": {},
   "outputs": [
    {
     "data": {
      "text/plain": [
       "283"
      ]
     },
     "execution_count": 3,
     "metadata": {},
     "output_type": "execute_result"
    }
   ],
   "source": [
    "19 + 11 * 24"
   ]
  },
  {
   "cell_type": "markdown",
   "id": "a42c3837",
   "metadata": {},
   "source": [
    "This is a simple arithmetic expression to multiply and then add integers"
   ]
  },
  {
   "cell_type": "code",
   "execution_count": 6,
   "id": "77a4c1e7",
   "metadata": {},
   "outputs": [
    {
     "data": {
      "text/plain": [
       "17"
      ]
     },
     "execution_count": 6,
     "metadata": {},
     "output_type": "execute_result"
    }
   ],
   "source": [
    "(3*4)+5"
   ]
  },
  {
   "cell_type": "markdown",
   "id": "2cdf22cc",
   "metadata": {},
   "source": [
    "This will convert 200 minutes into hours by dividing by 60"
   ]
  },
  {
   "cell_type": "code",
   "execution_count": 7,
   "id": "fed7e6a1",
   "metadata": {},
   "outputs": [
    {
     "name": "stdout",
     "output_type": "stream",
     "text": [
      "0 days, 3.3333333333333335hours, 0mins, \n"
     ]
    }
   ],
   "source": [
    "days = 0\n",
    "hours = 0\n",
    "mins = 0\n",
    "\n",
    "time = 200\n",
    "\n",
    "remaining_minutes = time % 1440\n",
    "hours = remaining_minutes / 60\n",
    "\n",
    "print(str(days) + \" days, \" + str(hours) + \"hours, \" + str(mins) + \"mins, \")"
   ]
  },
  {
   "cell_type": "markdown",
   "id": "654f309a",
   "metadata": {},
   "source": [
    "## Author\n",
    "Faiza Sabah"
   ]
  }
 ],
 "metadata": {
  "kernelspec": {
   "display_name": "Python 3 (ipykernel)",
   "language": "python",
   "name": "python3"
  },
  "language_info": {
   "codemirror_mode": {
    "name": "ipython",
    "version": 3
   },
   "file_extension": ".py",
   "mimetype": "text/x-python",
   "name": "python",
   "nbconvert_exporter": "python",
   "pygments_lexer": "ipython3",
   "version": "3.10.9"
  }
 },
 "nbformat": 4,
 "nbformat_minor": 5
}
